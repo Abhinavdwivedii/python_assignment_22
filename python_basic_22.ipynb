{
  "nbformat": 4,
  "nbformat_minor": 0,
  "metadata": {
    "colab": {
      "provenance": []
    },
    "kernelspec": {
      "name": "python3",
      "display_name": "Python 3"
    },
    "language_info": {
      "name": "python"
    }
  },
  "cells": [
    {
      "cell_type": "markdown",
      "source": [
        "#Question1. What is the result of the code, and explain?\n",
        "\n",
        "###>>> X = 'iNeuron'\n",
        "###>>> def func(): print(X)\n",
        "\n",
        "###>>> func()"
      ],
      "metadata": {
        "id": "PUIp3eVZZZcU"
      }
    },
    {
      "cell_type": "code",
      "execution_count": 1,
      "metadata": {
        "colab": {
          "base_uri": "https://localhost:8080/"
        },
        "id": "q-fei7mRZFcC",
        "outputId": "07989043-8826-408b-dbb2-0bb561ecb339"
      },
      "outputs": [
        {
          "output_type": "stream",
          "name": "stdout",
          "text": [
            "iNeuron\n"
          ]
        }
      ],
      "source": [
        "\n",
        "X = 'iNeuron'\n",
        "def func():\n",
        "    print(X)\n",
        "func()\n"
      ]
    },
    {
      "cell_type": "markdown",
      "source": [
        "###Ans. The global variables are accessible in side the functions in python. \n",
        "###But we can not access function variable out side function. \n",
        "###Since x is global variable we are able to print it in side the function solution : 'iNeuron'\n",
        "     "
      ],
      "metadata": {
        "id": "AB2FlOr0Zowf"
      }
    },
    {
      "cell_type": "markdown",
      "source": [
        "#Question2. What is the result of the code, and explain?\n",
        "###>>> X = 'iNeuron' >>> def func(): X = 'NI!'\n",
        "\n",
        "###>>> func() >>> print(X)"
      ],
      "metadata": {
        "id": "0mxfVt0KZuzo"
      }
    },
    {
      "cell_type": "code",
      "source": [
        "\n",
        "X = 'iNeuron'\n",
        "def func():\n",
        "    X = 'NI!'\n",
        "\n",
        "func()\n",
        "print(X)\n",
        "\n",
        "#Ans. The global variables are access inside the functions in python. But we can not access function variable out side function.\n",
        "# Since x is golbal variable we are able to print it out side of the function solution = 'iNeuron'\n",
        "     "
      ],
      "metadata": {
        "colab": {
          "base_uri": "https://localhost:8080/"
        },
        "id": "8l_pLcwWZkok",
        "outputId": "abf79e55-8030-4c12-8002-fab1829b0b5b"
      },
      "execution_count": 2,
      "outputs": [
        {
          "output_type": "stream",
          "name": "stdout",
          "text": [
            "iNeuron\n"
          ]
        }
      ]
    },
    {
      "cell_type": "markdown",
      "source": [
        "#Question3. What does this code print, and why?\n",
        "\n",
        "###>>> X = 'iNeuron' >>> def func(): X = 'NI' print(X)\n",
        "\n",
        "###>>> func() >>> print(X)"
      ],
      "metadata": {
        "id": "4uBxvE_3b6OV"
      }
    },
    {
      "cell_type": "code",
      "source": [
        "X = 'iNeuron'\n",
        "def func():\n",
        "    X = 'NI!'\n",
        "    print(X)\n",
        "\n",
        "func()\n",
        "print(X)\n",
        "\n",
        "#Ans. The global variables are access in side the functions in python. But we can not access function variable out side function.\n",
        "# X is updated with 'NI' which is local to function and its immutable. its name space is with in the function solution = 'NI!', 'iNeuron'\n",
        "     "
      ],
      "metadata": {
        "colab": {
          "base_uri": "https://localhost:8080/"
        },
        "id": "eAZ3w0HGaBbB",
        "outputId": "8ff3d576-96a2-4b29-f934-235b0c582bfa"
      },
      "execution_count": 9,
      "outputs": [
        {
          "output_type": "stream",
          "name": "stdout",
          "text": [
            "NI!\n",
            "iNeuron\n"
          ]
        }
      ]
    },
    {
      "cell_type": "markdown",
      "source": [
        "#Question4. What output does this code produce? Why?\n",
        "\n",
        "###>>> X = 'iNeuron' >>> def func(): global X X = 'NI'\n",
        "\n",
        "###>>> func() >>> print(X)"
      ],
      "metadata": {
        "id": "333-X6c0cE9-"
      }
    },
    {
      "cell_type": "code",
      "source": [
        "\n",
        "X = 'iNeuron'\n",
        "def func():\n",
        "    global X\n",
        "    X = 'NI!'\n",
        "    print(X)\n",
        "\n",
        "func()\n",
        "print(X)\n",
        "#Ans. since the X in side function is made Global, it will be accesible out side of the function too. \n",
        "#now X will have new value.\n",
        "\n",
        " #solution : 'NI!', 'NI!'"
      ],
      "metadata": {
        "colab": {
          "base_uri": "https://localhost:8080/"
        },
        "id": "WLbq9izSbcQg",
        "outputId": "6e563b5c-31c0-4741-91dd-c6bc97f03c22"
      },
      "execution_count": 10,
      "outputs": [
        {
          "output_type": "stream",
          "name": "stdout",
          "text": [
            "NI!\n",
            "NI!\n"
          ]
        }
      ]
    },
    {
      "cell_type": "markdown",
      "source": [
        "#Question5. What about this code—what’s the output, and why?\n",
        "\n",
        "###>>> X = 'iNeuron' >>> def func(): X = 'NI' def nested(): print(X) nested()\n",
        "\n",
        "###>>> func() >>> X"
      ],
      "metadata": {
        "id": "7JqaOWx2cWJm"
      }
    },
    {
      "cell_type": "code",
      "source": [
        "\n",
        "X = 'iNeuron'\n",
        "def func():\n",
        "    X = 'NI'\n",
        "def nested():\n",
        "    print(X)\n",
        "    \n",
        "nested()\n",
        "func()\n",
        "X\n",
        "\n",
        "#Ans. the nested() function will print 'iNeuron', Then func() does not display anything,\n",
        "# and x ='NI' is not accessible out \n",
        "#side the function.\n",
        "#Solution : 'iNeuron'\n",
        "     "
      ],
      "metadata": {
        "colab": {
          "base_uri": "https://localhost:8080/",
          "height": 53
        },
        "id": "7aCuZYBBbnIY",
        "outputId": "73c6e825-c189-4848-8bd5-ddfc84d6d31c"
      },
      "execution_count": 11,
      "outputs": [
        {
          "output_type": "stream",
          "name": "stdout",
          "text": [
            "iNeuron\n"
          ]
        },
        {
          "output_type": "execute_result",
          "data": {
            "text/plain": [
              "'iNeuron'"
            ],
            "application/vnd.google.colaboratory.intrinsic+json": {
              "type": "string"
            }
          },
          "metadata": {},
          "execution_count": 11
        }
      ]
    },
    {
      "cell_type": "markdown",
      "source": [
        "#Question6. How about this code: what is its output in Python 3, and explain?\n",
        "\n",
        "###>>> def func(): X = 'NI' def nested(): nonlocal X X = 'Spam' nested() print(X)\n",
        "\n",
        "###>>> func()"
      ],
      "metadata": {
        "id": "OUZJcMcPcnR9"
      }
    },
    {
      "cell_type": "code",
      "source": [
        "\n",
        "def func():\n",
        "    X = 'NI'\n",
        "    def nested():\n",
        "        nonlocal X\n",
        "        X = 'spam'\n",
        "    nested()\n",
        "    print(X)\n",
        "\n",
        "func()\n",
        "\n",
        "#Nonlocal variables are used in nested functions whose local scope is not defined. \n",
        "#This means that the variable can be neither in the local nor the global scope. it print the updated value from nested \n",
        "#function\n",
        "\n",
        "#Sol : 'spam'"
      ],
      "metadata": {
        "colab": {
          "base_uri": "https://localhost:8080/"
        },
        "id": "6fpO_1IHbvCX",
        "outputId": "36527f82-7390-4a95-90f2-f8d907399576"
      },
      "execution_count": 12,
      "outputs": [
        {
          "output_type": "stream",
          "name": "stdout",
          "text": [
            "spam\n"
          ]
        }
      ]
    },
    {
      "cell_type": "code",
      "source": [],
      "metadata": {
        "id": "rRHwgLxgcy0V"
      },
      "execution_count": null,
      "outputs": []
    }
  ]
}